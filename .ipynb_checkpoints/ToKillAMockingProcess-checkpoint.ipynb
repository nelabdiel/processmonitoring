{
 "cells": [
  {
   "cell_type": "code",
   "execution_count": null,
   "metadata": {
    "collapsed": false
   },
   "outputs": [],
   "source": [
    "import psutil\n",
    "import time\n",
    "Last = []\n",
    "Now = []\n",
    "\n",
    "while 1:\n",
    "    for proc in psutil.pids():\n",
    "        try:\n",
    "            if psutil.Process(proc).name() == 'phantomjs':\n",
    "                Now.append(proc)\n",
    "        except:\n",
    "            pass\n",
    "        if proc in Last:\n",
    "            try:\n",
    "                psutil.Process(proc).kill()\n",
    "            except:\n",
    "                pass\n",
    "    Last = Now\n",
    "    print('I did something!')\n",
    "    time.sleep(60)"
   ]
  },
  {
   "cell_type": "code",
   "execution_count": null,
   "metadata": {
    "collapsed": true
   },
   "outputs": [],
   "source": []
  }
 ],
 "metadata": {
  "kernelspec": {
   "display_name": "Python 3",
   "language": "python",
   "name": "python3"
  },
  "language_info": {
   "codemirror_mode": {
    "name": "ipython",
    "version": 3
   },
   "file_extension": ".py",
   "mimetype": "text/x-python",
   "name": "python",
   "nbconvert_exporter": "python",
   "pygments_lexer": "ipython3",
   "version": "3.4.4"
  }
 },
 "nbformat": 4,
 "nbformat_minor": 0
}
